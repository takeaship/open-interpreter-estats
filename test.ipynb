{
 "cells": [
  {
   "cell_type": "code",
   "execution_count": 1,
   "metadata": {},
   "outputs": [
    {
     "name": "stdout",
     "output_type": "stream",
     "text": [
      "             値 男女別・性比     人口    年齢各歳  全国    時間軸（年月日現在）\n",
      "0     126146.0    男女計    総人口      総数  全国  2020年10月1日現在\n",
      "1     125502.0    男女計    総人口      総数  全国  2021年10月1日現在\n",
      "2     124947.0    男女計    総人口      総数  全国  2022年10月1日現在\n",
      "3        837.0    男女計    総人口      0歳  全国  2020年10月1日現在\n",
      "4        830.0    男女計    総人口      0歳  全国  2021年10月1日現在\n",
      "...        ...    ...    ...     ...  ..           ...\n",
      "2239      20.0   人口性比  日本人人口     98歳  全国  2022年10月1日現在\n",
      "2240      16.5   人口性比  日本人人口     99歳  全国  2021年10月1日現在\n",
      "2241      16.7   人口性比  日本人人口     99歳  全国  2022年10月1日現在\n",
      "2242      13.7   人口性比  日本人人口  100歳以上  全国  2021年10月1日現在\n",
      "2243      13.6   人口性比  日本人人口  100歳以上  全国  2022年10月1日現在\n",
      "\n",
      "[2244 rows x 6 columns]\n"
     ]
    }
   ],
   "source": [
    "import jpy_datareader as jdr\n",
    "import os\n",
    "\n",
    "api_key = os.environ.get(\"ESTATS_APP_ID\")\n",
    "df = jdr.get_data_estat_statsdata(api_key=api_key, statsDataId=\"0003448228\")\n",
    "print(df)"
   ]
  },
  {
   "cell_type": "code",
   "execution_count": null,
   "metadata": {},
   "outputs": [],
   "source": [
    "from jpy_datareader import estat\n",
    "df = estat.DataCatalogReader(api_key, searchWord=\"GDP\", limit=10).read()\n"
   ]
  },
  {
   "cell_type": "code",
   "execution_count": null,
   "metadata": {},
   "outputs": [],
   "source": [
    "df.to_csv(\"gdp.csv\")"
   ]
  },
  {
   "cell_type": "code",
   "execution_count": null,
   "metadata": {},
   "outputs": [],
   "source": [
    "from jpy_datareader import estat\n",
    "import os\n",
    "api_key = os.environ.get(\"ESTATS_APP_ID\")\n",
    "df = estat.StatsListReader(api_key, searchWord=\"GDP\", limit=10).read()\n"
   ]
  },
  {
   "cell_type": "code",
   "execution_count": null,
   "metadata": {},
   "outputs": [],
   "source": [
    "import requests\n",
    "import json\n",
    "\n",
    "result = requests.get('https://api.e-stat.go.jp/rest/3.0/app/json/getDataCatalog?appId=b335080901d24ae61fbbe28a00514b549f7e2470&limit=10')\n",
    "formatted_json = json.dumps(result.json(), indent=4, ensure_ascii=False)\n",
    "print(formatted_json)\n"
   ]
  }
 ],
 "metadata": {
  "kernelspec": {
   "display_name": ".venv",
   "language": "python",
   "name": "python3"
  },
  "language_info": {
   "codemirror_mode": {
    "name": "ipython",
    "version": 3
   },
   "file_extension": ".py",
   "mimetype": "text/x-python",
   "name": "python",
   "nbconvert_exporter": "python",
   "pygments_lexer": "ipython3",
   "version": "3.11.8"
  }
 },
 "nbformat": 4,
 "nbformat_minor": 2
}
